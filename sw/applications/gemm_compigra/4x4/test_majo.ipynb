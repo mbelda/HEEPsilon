{
 "cells": [
  {
   "cell_type": "code",
   "execution_count": 6,
   "metadata": {},
   "outputs": [],
   "source": [
    "import sys\n",
    "sys.path.append(\"src/\")\n",
    "from cgra import *\n",
    "from sat_to_csv import *\n",
    "from kernels import *"
   ]
  },
  {
   "cell_type": "code",
   "execution_count": 7,
   "metadata": {},
   "outputs": [],
   "source": [
    "benchmark_name = \"gemm_majo\"  # supported benchmarks: conv3d, bicg\n",
    "version = \"v3\"\n",
    "cgra_grid = 4"
   ]
  },
  {
   "cell_type": "code",
   "execution_count": 8,
   "metadata": {},
   "outputs": [],
   "source": [
    "import numpy as np\n",
    "\n",
    "def gemm_majo(rows_a, cols_a, cols_b, matrix_a, matrix_b):\n",
    "    \"\"\"\n",
    "    General Matrix Multiplication implementation in Python.\n",
    "    \n",
    "    Args:\n",
    "        rows_a: Number of rows in matrix A\n",
    "        cols_a: Number of columns in matrix A\n",
    "        cols_b: Number of columns in matrix B\n",
    "        matrix_a: Input matrix A as a flat list or 1D array\n",
    "        matrix_b: Input matrix B as a flat list or 1D array\n",
    "        \n",
    "    Returns:\n",
    "        A new output matrix as a 1D array representing the result of A×B\n",
    "    \"\"\"\n",
    "    # Initialize output matrix with zeros\n",
    "    output = [0] * (rows_a * cols_b)\n",
    "    \n",
    "    for i in range(rows_a):\n",
    "        for j in range(cols_b):\n",
    "            sum_val = 0\n",
    "            for k in range(cols_a):\n",
    "                # Convert 2D indices to 1D array index\n",
    "                a_idx = i * cols_a + k\n",
    "                b_idx = k * cols_b + j\n",
    "                sum_val += matrix_a[a_idx] * matrix_b[b_idx]\n",
    "            output[i * cols_b + j] = sum_val\n",
    "            \n",
    "    return output\n",
    "\n",
    "rows_a = 64\n",
    "cols_a = 64\n",
    "cols_b = 4\n",
    "matrix_a = np.random.randint(0, 10, (rows_a, cols_a)).flatten()\n",
    "matrix_b = np.random.randint(0, 10, (cols_a, cols_b)).flatten()\n",
    "python_output = gemm_majo(rows_a, cols_a, cols_b, matrix_a, matrix_b)"
   ]
  },
  {
   "cell_type": "code",
   "execution_count": null,
   "metadata": {},
   "outputs": [],
   "source": [
    "# Print the results\n",
    "if benchmark_name == \"gemm_majo\":\n",
    "    print(\"A:\")\n",
    "    print(matrix_a)\n",
    "    print(\"B:\")\n",
    "    print(matrix_b)\n",
    "    print(\"\\nOutput Tensor:\")\n",
    "    print(python_output)"
   ]
  },
  {
   "cell_type": "code",
   "execution_count": null,
   "metadata": {},
   "outputs": [],
   "source": [
    "if benchmark_name == \"gemm_majo\":\n",
    "    # Kernels will be located in a folder with the kernel's name\n",
    "    kernel_name = \"examples_compigra1/\"+benchmark_name\n",
    "\n",
    "    # Create a new folder (if it does not exist already) and add the minimum necessary files to run it\n",
    "    kernel_new(kernel_name)\n",
    "\n",
    "    # If you have a assembly in the SAT-MapIt format, you can convert it to a csv\n",
    "    convert( kernel_name+\"/out_\" + str(cgra_grid) + \"_\" + version + \".sat\", kernel_name+\"/instructions.csv\" )\n",
    "\n",
    "    # To test this kernel we will fill the memory with two random arrays\n",
    "    kernel_clear_memory(kernel_name)\n",
    "\n",
    "    # initialize memory cmd·\n",
    "    # concatenate matrix_a to be 64 x 64\n",
    "    A = np.zeros((64, 64)).astype(int)\n",
    "    A = A.flatten()\n",
    "    A[:rows_a*cols_a] = matrix_a\n",
    "    print(A)\n",
    "\n",
    "    # concatenate matrix_b to be 64 x 64\n",
    "    B = np.zeros((64, 64)).astype(int)\n",
    "    B = B.flatten()\n",
    "    B[:cols_a*cols_b] = matrix_b\n",
    "    print(B)\n",
    "    kernel_add_memory_region(kernel_name, 51328, np.concatenate((np.array([rows_a, cols_a, cols_b]), A, B.flatten())))\n",
    "\n",
    "\n",
    "    import cgra\n",
    "    # Simulate the execution of the kernel in CGRA\n",
    "    cgra.run( kernel_name, pr=[\"ROUT\", \"R0\", \"R1\", \"INST\"], limit=200000)"
   ]
  },
  {
   "cell_type": "code",
   "execution_count": null,
   "metadata": {},
   "outputs": [],
   "source": []
  }
 ],
 "metadata": {
  "kernelspec": {
   "display_name": "basic",
   "language": "python",
   "name": "python3"
  },
  "language_info": {
   "codemirror_mode": {
    "name": "ipython",
    "version": 3
   },
   "file_extension": ".py",
   "mimetype": "text/x-python",
   "name": "python",
   "nbconvert_exporter": "python",
   "pygments_lexer": "ipython3",
   "version": "3.12.4"
  }
 },
 "nbformat": 4,
 "nbformat_minor": 2
}
